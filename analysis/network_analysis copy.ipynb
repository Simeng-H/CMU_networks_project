{
 "cells": [
  {
   "cell_type": "code",
   "execution_count": 4,
   "metadata": {},
   "outputs": [
    {
     "ename": "AttributeError",
     "evalue": "'networkit.graph.Graph' object has no attribute 'toUndirected'",
     "output_type": "error",
     "traceback": [
      "\u001b[0;31m---------------------------------------------------------------------------\u001b[0m",
      "\u001b[0;31mAttributeError\u001b[0m                            Traceback (most recent call last)",
      "Cell \u001b[0;32mIn[4], line 12\u001b[0m\n\u001b[1;32m      9\u001b[0m artist_network \u001b[38;5;241m=\u001b[39m nk\u001b[38;5;241m.\u001b[39mreadGraph(artist_network_path)\n\u001b[1;32m     11\u001b[0m \u001b[38;5;66;03m# force convert to undirected\u001b[39;00m\n\u001b[0;32m---> 12\u001b[0m track_network \u001b[38;5;241m=\u001b[39m \u001b[43mtrack_network\u001b[49m\u001b[38;5;241;43m.\u001b[39;49m\u001b[43mtoUndirected\u001b[49m()\n\u001b[1;32m     13\u001b[0m artist_network \u001b[38;5;241m=\u001b[39m artist_network\u001b[38;5;241m.\u001b[39mtoUndirected()\n",
      "\u001b[0;31mAttributeError\u001b[0m: 'networkit.graph.Graph' object has no attribute 'toUndirected'"
     ]
    }
   ],
   "source": [
    "import networkit as nk\n",
    "\n",
    "\n",
    "track_network_path = \"../network-parser/track_graph.graphml\"\n",
    "artist_network_path = \"../network-parser/artist_graph.graphml\"\n",
    "\n",
    "# read graphml files\n",
    "track_network = nk.readGraph(track_network_path)\n",
    "artist_network = nk.readGraph(artist_network_path)\n",
    "\n",
    "# force convert to undirected\n",
    "track_network = nk.toUndirected(track_network)\n",
    "artist_network = artist_network.toUndirected()\n",
    "\n",
    "\n"
   ]
  },
  {
   "cell_type": "markdown",
   "metadata": {},
   "source": [
    "# Preliminary analysis"
   ]
  },
  {
   "cell_type": "code",
   "execution_count": 2,
   "metadata": {},
   "outputs": [
    {
     "name": "stdout",
     "output_type": "stream",
     "text": [
      "Mean degree of track network:  221.84101232965608\n",
      "Mean degree of artist network:  196.15101214574898\n"
     ]
    }
   ],
   "source": [
    "# calculate mean degree\n",
    "track_network_degree = track_network.degree()\n",
    "artist_network_degree = artist_network.degree()\n",
    "\n",
    "print(\"Mean degree of track network: \", sum(track_network_degree) / len(track_network_degree))\n",
    "print(\"Mean degree of artist network: \", sum(artist_network_degree) / len(artist_network_degree))\n",
    "\n",
    "# calculate mean clustering coefficient\n",
    "track_network_clustering_coefficient = track_network.transitivity_local_undirected()\n",
    "artist_network_clustering_coefficient = artist_network.transitivity_local_undirected()\n",
    "\n",
    "print(\"Mean clustering coefficient of track network: \", sum(track_network_clustering_coefficient) / len(track_network_clustering_coefficient))\n",
    "print(\"Mean clustering coefficient of artist network: \", sum(artist_network_clustering_coefficient) / len(artist_network_clustering_coefficient))\n",
    "\n",
    "# calculate mean shortest path length\n",
    "track_network_shortest_path_length = track_network.shortest_paths()\n",
    "artist_network_shortest_path_length = artist_network.shortest_paths()\n",
    "\n"
   ]
  }
 ],
 "metadata": {
  "kernelspec": {
   "display_name": "networks",
   "language": "python",
   "name": "python3"
  },
  "language_info": {
   "codemirror_mode": {
    "name": "ipython",
    "version": 3
   },
   "file_extension": ".py",
   "mimetype": "text/x-python",
   "name": "python",
   "nbconvert_exporter": "python",
   "pygments_lexer": "ipython3",
   "version": "3.11.8"
  }
 },
 "nbformat": 4,
 "nbformat_minor": 2
}
