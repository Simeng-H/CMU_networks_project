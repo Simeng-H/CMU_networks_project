{
 "cells": [
  {
   "cell_type": "code",
   "execution_count": 2,
   "metadata": {},
   "outputs": [
    {
     "name": "stdout",
     "output_type": "stream",
     "text": [
      "True\n",
      "True\n"
     ]
    }
   ],
   "source": [
    "import igraph as ig\n",
    "\n",
    "\n",
    "track_network_path = \"../network-parser/track_graph.graphml\"\n",
    "artist_network_path = \"../network-parser/artist_graph.graphml\"\n",
    "\n",
    "# read graphml files\n",
    "track_network = ig.Graph.Read_GraphML(track_network_path)\n",
    "artist_network = ig.Graph.Read_GraphML(artist_network_path)\n",
    "\n",
    "# force convert to undirected\n",
    "track_network.to_undirected()\n",
    "artist_network.to_undirected()\n",
    "\n",
    "# force convert to simple\n",
    "track_network.simplify()\n",
    "artist_network.simplify()\n",
    "\n",
    "# confirm\n",
    "print(track_network.is_simple())\n",
    "print(artist_network.is_simple())\n",
    "\n"
   ]
  },
  {
   "cell_type": "markdown",
   "metadata": {},
   "source": [
    "# Preliminary analysis"
   ]
  },
  {
   "cell_type": "code",
   "execution_count": 3,
   "metadata": {},
   "outputs": [
    {
     "name": "stderr",
     "output_type": "stream",
     "text": [
      "Track Network Degree Calculation: 100%|██████████| 58558/58558 [00:00<00:00, 1431844.73it/s]\n",
      "Artist Network Degree Calculation: 100%|██████████| 14820/14820 [00:00<00:00, 1463267.07it/s]\n"
     ]
    },
    {
     "name": "stdout",
     "output_type": "stream",
     "text": [
      "Mean degree of track network:  221.78520441271903\n",
      "Mean degree of artist network:  195.472334682861\n"
     ]
    },
    {
     "name": "stderr",
     "output_type": "stream",
     "text": [
      "Track Network Clustering Coefficient Calculation: 100%|██████████| 58558/58558 [00:43<00:00, 1347.70it/s]\n",
      "Artist Network Clustering Coefficient Calculation: 100%|██████████| 14820/14820 [00:07<00:00, 1975.44it/s]"
     ]
    },
    {
     "name": "stdout",
     "output_type": "stream",
     "text": [
      "Mean clustering coefficient of track network:  0.8465188127450948\n",
      "Mean clustering coefficient of artist network:  0.8005243710916299\n"
     ]
    },
    {
     "name": "stderr",
     "output_type": "stream",
     "text": [
      "\n"
     ]
    }
   ],
   "source": [
    "import numpy as np\n",
    "import pandas as pd\n",
    "from tqdm import tqdm\n",
    "\n",
    "# calculate mean degree with progress bar\n",
    "track_network_degree = []\n",
    "artist_network_degree = []\n",
    "\n",
    "for vertex in tqdm(track_network.vs, desc=\"Track Network Degree Calculation\"):\n",
    "    track_network_degree.append(track_network.degree(vertex))\n",
    "\n",
    "for vertex in tqdm(artist_network.vs, desc=\"Artist Network Degree Calculation\"):\n",
    "    artist_network_degree.append(artist_network.degree(vertex))\n",
    "\n",
    "print(\"Mean degree of track network: \", np.mean(track_network_degree))\n",
    "print(\"Mean degree of artist network: \", np.mean(artist_network_degree))\n",
    "\n",
    "# calculate mean clustering coefficient with progress bar\n",
    "track_network_clustering_coefficient = []\n",
    "artist_network_clustering_coefficient = []\n",
    "\n",
    "for vertex in tqdm(track_network.vs, desc=\"Track Network Clustering Coefficient Calculation\"):\n",
    "    track_network_clustering_coefficient.append(track_network.transitivity_local_undirected(vertices=[vertex])[0])\n",
    "\n",
    "for vertex in tqdm(artist_network.vs, desc=\"Artist Network Clustering Coefficient Calculation\"):\n",
    "    artist_network_clustering_coefficient.append(artist_network.transitivity_local_undirected(vertices=[vertex])[0])\n",
    "\n",
    "print(\"Mean clustering coefficient of track network: \", np.mean(track_network_clustering_coefficient))\n",
    "print(\"Mean clustering coefficient of artist network: \", np.mean(artist_network_clustering_coefficient))\n"
   ]
  },
  {
   "cell_type": "code",
   "execution_count": 8,
   "metadata": {},
   "outputs": [],
   "source": [
    "# visualize sample of both networks\n",
    "import matplotlib.pyplot as plt\n",
    "\n",
    "# fig, axs = plt.subplots(1, 2, figsize=(12, 6))\n",
    "\n",
    "sample_size = 1000\n",
    "\n",
    "track_network_vertices = np.random.choice(track_network.vs, sample_size, replace=False)\n",
    "artist_network_vertices = np.random.choice(artist_network.vs, sample_size, replace=False)\n",
    "\n",
    "track_network_edges = track_network.get_edgelist()\n",
    "artist_network_edges = artist_network.get_edgelist()\n",
    "\n",
    "track_network_subgraph = track_network.subgraph(track_network_vertices)\n",
    "artist_network_subgraph = artist_network.subgraph(artist_network_vertices)\n",
    "\n",
    "\n",
    "# Create a figure for the track network\n",
    "track_fig, track_ax = plt.subplots()\n",
    "track_layout = track_network_subgraph.layout_auto()\n",
    "ig.plot(track_network_subgraph, vertex_size=1, target=track_ax, layout=track_layout)\n",
    "track_ax.set_title(\"Track Network Sample\")\n",
    "plt.tight_layout()\n",
    "plt.savefig(\"track_network_sample.png\")\n",
    "plt.close(track_fig)\n",
    "\n",
    "# Create a figure for the artist network\n",
    "artist_fig, artist_ax = plt.subplots()\n",
    "artist_layout = artist_network_subgraph.layout_auto()\n",
    "ig.plot(artist_network_subgraph, vertex_size=1, target=artist_ax, layout=artist_layout)\n",
    "artist_ax.set_title(\"Artist Network Sample\")\n",
    "plt.tight_layout()\n",
    "plt.savefig(\"artist_network_sample.png\")\n",
    "plt.close(artist_fig)\n",
    "\n"
   ]
  },
  {
   "cell_type": "code",
   "execution_count": 17,
   "metadata": {},
   "outputs": [
    {
     "name": "stdout",
     "output_type": "stream",
     "text": [
      "Number of connected components in track network:  29\n",
      "Number of connected components in artist network:  6\n",
      "Sizes of connected components in track network:  [57053, 111, 138, 21, 86, 236, 38, 183, 8, 50, 104, 21, 24, 86, 13, 153, 24, 15, 12, 39, 14, 39, 17, 23, 8, 13, 6, 18, 5]\n",
      "Sizes of connected components in artist network:  [14763, 21, 6, 8, 8, 14]\n",
      "Number of vertices in track network smallest component:  5\n",
      "Number of edges in track network smallest component:  10\n",
      "Number of vertices in artist network smallest component:  6\n",
      "Number of edges in artist network smallest component:  15\n",
      "Attributes of smallest components in track network:  ['id']\n",
      "Attributes of smallest components in artist network:  ['id']\n",
      "Labels of smallest components in track network:  ['spotify:track:3StCElHKaN6ASLf7Pymdum', 'spotify:track:1zRqRmZyE0bgXkSoVVaCwK', 'spotify:track:6viXsuUv5BEnvVYLFCk8os', 'spotify:track:7ETuZtnJJ1brMNiPpd2LFg', 'spotify:track:5mahfoOSoSDgkLRI5MMHj7']\n",
      "Labels of smallest components in artist network:  ['spotify:artist:2TFaSCsqBNMcZ1daHE0pNA', 'spotify:artist:7ow7nXWCZuMoU09aRki7GB', 'spotify:artist:4PTdN7iZceYLYGvOTxwAgl', 'spotify:artist:2M3T0t1HvVr5Lz3MtdygpS', 'spotify:artist:2C62QiJ3Rme5no5evMD1hH', 'spotify:artist:0HcyeAioEKhfwVcJAoyN36']\n"
     ]
    }
   ],
   "source": [
    "import matplotlib.pyplot as plt\n",
    "\n",
    "# # of connected components\n",
    "track_network_connected_components = track_network.components()\n",
    "artist_network_connected_components = artist_network.components()\n",
    "\n",
    "print(\"Number of connected components in track network: \", len(track_network_connected_components))\n",
    "print(\"Number of connected components in artist network: \", len(artist_network_connected_components))\n",
    "\n",
    "# size distribution of connected components\n",
    "track_network_connected_components_size = []\n",
    "artist_network_connected_components_size = []\n",
    "\n",
    "for component in track_network_connected_components:\n",
    "    track_network_connected_components_size.append(len(component))\n",
    "\n",
    "for component in artist_network_connected_components:\n",
    "    artist_network_connected_components_size.append(len(component))\n",
    "\n",
    "# print the sizes of components\n",
    "print(\"Sizes of connected components in track network: \", track_network_connected_components_size)\n",
    "print(\"Sizes of connected components in artist network: \", artist_network_connected_components_size)\n",
    "\n",
    "# save the largest connected component for later analysis\n",
    "track_network_giant = track_network.subgraph(track_network_connected_components[np.argmax(track_network_connected_components_size)])\n",
    "artist_network_giant = artist_network.subgraph(artist_network_connected_components[np.argmax(artist_network_connected_components_size)])\n",
    "\n",
    "# print content of smmallest components\n",
    "track_network_smallest_components = track_network.subgraph(track_network_connected_components[np.argmin(track_network_connected_components_size)])\n",
    "artist_network_smallest_components = artist_network.subgraph(artist_network_connected_components[np.argmin(artist_network_connected_components_size)])\n",
    "\n",
    "print(\"Number of vertices in track network smallest component: \", track_network_smallest_components.vcount())\n",
    "print(\"Number of edges in track network smallest component: \", track_network_smallest_components.ecount())\n",
    "\n",
    "print(\"Number of vertices in artist network smallest component: \", artist_network_smallest_components.vcount())\n",
    "print(\"Number of edges in artist network smallest component: \", artist_network_smallest_components.ecount())\n",
    "\n",
    "# print all attributes of the smallest components\n",
    "print(\"Attributes of smallest components in track network: \", track_network_smallest_components.vs.attributes())\n",
    "print(\"Attributes of smallest components in artist network: \", artist_network_smallest_components.vs.attributes())\n",
    "\n",
    "# print labels of non-giant components\n",
    "print(\"Labels of smallest components in track network: \", track_network_smallest_components.vs[\"id\"])\n",
    "print(\"Labels of smallest components in artist network: \", artist_network_smallest_components.vs[\"id\"])\n",
    "\n",
    "\n",
    "\n"
   ]
  },
  {
   "cell_type": "code",
   "execution_count": 18,
   "metadata": {},
   "outputs": [
    {
     "name": "stderr",
     "output_type": "stream",
     "text": [
      "Track Network Shortest Path Calculation: 100%|██████████| 1000/1000 [01:27<00:00, 11.48it/s]\n",
      "Artist Network Shortest Path Calculation: 100%|██████████| 1000/1000 [00:13<00:00, 73.19it/s]"
     ]
    },
    {
     "name": "stdout",
     "output_type": "stream",
     "text": [
      "Mean shortest path length of track network:  2.9445954288118066\n",
      "Diameter of track network:  4.535414439205651\n",
      "Mean shortest path length of artist network:  2.5251248391248393\n",
      "Diameter of artist network:  4.85815891079049\n"
     ]
    },
    {
     "name": "stderr",
     "output_type": "stream",
     "text": [
      "\n"
     ]
    }
   ],
   "source": [
    "# calculate mean shortest path length for a random sample of 1000 vertices\n",
    "track_network_shortest_path_length = []\n",
    "artist_network_shortest_path_length = []\n",
    "\n",
    "# sample 1000 vertices\n",
    "track_network_vertices = np.random.choice(track_network_giant.vs, 1000, replace=False)\n",
    "artist_network_vertices = np.random.choice(artist_network_giant.vs, 1000, replace=False)\n",
    "\n",
    "for vertex in tqdm(track_network_vertices, desc=\"Track Network Shortest Path Calculation\"):\n",
    "    track_network_shortest_path_length.append(np.mean(track_network_giant.distances(vertex)[0]))\n",
    "\n",
    "for vertex in tqdm(artist_network_vertices, desc=\"Artist Network Shortest Path Calculation\"):\n",
    "    artist_network_shortest_path_length.append(np.mean(artist_network_giant.distances(vertex)[0]))\n",
    "\n",
    "print(\"Mean shortest path length of track network: \", np.mean(track_network_shortest_path_length))\n",
    "print(\"Diameter of track network: \", np.max(track_network_shortest_path_length))\n",
    "\n",
    "print(\"Mean shortest path length of artist network: \", np.mean(artist_network_shortest_path_length))\n",
    "print(\"Diameter of artist network: \", np.max(artist_network_shortest_path_length))\n"
   ]
  },
  {
   "cell_type": "code",
   "execution_count": 9,
   "metadata": {},
   "outputs": [],
   "source": [
    "# Plot degree distribution\n",
    "import matplotlib.pyplot as plt\n",
    "\n",
    "# fig, axs = plt.subplots(1, 2, figsize=(12, 6))\n",
    "\n",
    "# axs[0].hist(track_network_degree, bins=50, edgecolor='black')\n",
    "# axs[0].set_title('Track Network Degree Distribution')\n",
    "# axs[0].set_xlabel('Degree')\n",
    "# axs[0].set_ylabel('Frequency')\n",
    "\n",
    "# axs[1].hist(artist_network_degree, bins=50, edgecolor='black')\n",
    "# axs[1].set_title('Artist Network Degree Distribution')\n",
    "# axs[1].set_xlabel('Degree')\n",
    "# axs[1].set_ylabel('Frequency')\n",
    "\n",
    "# plt.show()\n",
    "\n",
    "track_degree_fig, track_degree_ax = plt.subplots()\n",
    "track_degree_ax.hist(track_network_degree, bins=50, edgecolor='black')\n",
    "track_degree_ax.set_title('Track Network Degree Distribution')\n",
    "track_degree_ax.set_xlabel('Degree')\n",
    "track_degree_ax.set_ylabel('Frequency')\n",
    "plt.savefig(\"track_network_degree_distribution.png\")\n",
    "plt.close(track_degree_fig)\n",
    "\n",
    "artist_degree_fig, artist_degree_ax = plt.subplots()\n",
    "artist_degree_ax.hist(artist_network_degree, bins=50, edgecolor='black')\n",
    "artist_degree_ax.set_title('Artist Network Degree Distribution')\n",
    "artist_degree_ax.set_xlabel('Degree')\n",
    "artist_degree_ax.set_ylabel('Frequency')\n",
    "plt.savefig(\"artist_network_degree_distribution.png\")\n",
    "plt.close(artist_degree_fig)\n",
    "\n",
    "\n",
    "\n",
    "\n"
   ]
  }
 ],
 "metadata": {
  "kernelspec": {
   "display_name": "networks",
   "language": "python",
   "name": "python3"
  },
  "language_info": {
   "codemirror_mode": {
    "name": "ipython",
    "version": 3
   },
   "file_extension": ".py",
   "mimetype": "text/x-python",
   "name": "python",
   "nbconvert_exporter": "python",
   "pygments_lexer": "ipython3",
   "version": "3.11.8"
  }
 },
 "nbformat": 4,
 "nbformat_minor": 2
}
